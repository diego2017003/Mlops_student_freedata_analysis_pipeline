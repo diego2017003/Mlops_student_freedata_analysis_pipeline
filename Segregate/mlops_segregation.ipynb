{
 "cells": [
  {
   "cell_type": "code",
   "execution_count": 20,
   "id": "2b9d4d78",
   "metadata": {},
   "outputs": [],
   "source": [
    "import argparse\n",
    "import logging\n",
    "import pandas as pd\n",
    "import seaborn as sns\n",
    "from sklearn.preprocessing import LabelEncoder\n",
    "from sklearn.metrics import roc_auc_score\n",
    "from sklearn.metrics import confusion_matrix\n",
    "from sklearn.metrics import ConfusionMatrixDisplay\n",
    "from sklearn.metrics import accuracy_score\n",
    "from clearml import Task\n",
    "from sklearn.model_selection import train_test_split"
   ]
  },
  {
   "cell_type": "code",
   "execution_count": 21,
   "id": "a7d2c2a0",
   "metadata": {},
   "outputs": [],
   "source": [
    "# configure logging\n",
    "logging.basicConfig(level=logging.INFO,\n",
    "                    format=\"%(asctime)s %(message)s\",\n",
    "                    datefmt='%d-%m-%Y %H:%M:%S')\n",
    "\n",
    "# reference for a logging obj\n",
    "logger = logging.getLogger()"
   ]
  },
  {
   "cell_type": "code",
   "execution_count": 22,
   "id": "a1cafd5c",
   "metadata": {},
   "outputs": [],
   "source": [
    "from clearml import StorageManager\n",
    "\n",
    "manager = StorageManager()\n",
    "dataset_path = manager.get_local_copy(\n",
    "    remote_url=\"https://files.clear.ml/a%20ML%20example/Prepreocessing.71845909e9b643fca92e5902c32265a1/artifacts/processed_data/preprocessed_data.csv\"\n",
    ")"
   ]
  },
  {
   "cell_type": "code",
   "execution_count": 23,
   "id": "421f5eeb",
   "metadata": {},
   "outputs": [],
   "source": [
    "df = pd.read_table(dataset_path,sep=',',encoding='utf-8')"
   ]
  },
  {
   "cell_type": "code",
   "execution_count": 24,
   "id": "ee677b8c",
   "metadata": {},
   "outputs": [],
   "source": [
    "task_id = '4eb7af98b1d94e01a0314db4426bcae3'"
   ]
  },
  {
   "cell_type": "code",
   "execution_count": 30,
   "id": "ec7146a0",
   "metadata": {},
   "outputs": [
    {
     "name": "stdout",
     "output_type": "stream",
     "text": [
      "ClearML Task: created new task id=2636605683f44c7297400d9e8e8eb136\n",
      "ClearML results page: https://app.clear.ml/projects/f1c17864fcdb416aa5a22f5a70020ea9/experiments/2636605683f44c7297400d9e8e8eb136/output/log\n",
      "2022-02-17 23:42:42,182 - clearml.Repository Detection - WARNING - Failed accessing the jupyter server: 403 Client Error: Forbidden for url: http://localhost:8889/api/sessions\n",
      "2022-02-17 23:42:42,281 - clearml.Task - INFO - No repository found, storing script code instead\n",
      "ClearML Monitor: GPU monitoring failed getting GPU reading, switching off GPU monitoring\n"
     ]
    },
    {
     "data": {
      "text/plain": [
       "True"
      ]
     },
     "execution_count": 30,
     "metadata": {},
     "output_type": "execute_result"
    },
    {
     "name": "stdout",
     "output_type": "stream",
     "text": [
      "ClearML Monitor: Could not detect iteration reporting, falling back to iterations as seconds-from-start\n"
     ]
    }
   ],
   "source": [
    "task = Task.init(project_name=\"a ML example\",task_name=\"segregate data\")\n",
    "df['descricao'].replace({'APROVADO':'1',\"FALHOU\":\"0\",\"REPROVADO POR NOTA E FALTA\":\"0\"},inplace=True)\n",
    "x_train , x_test , y_train , y_test = train_test_split(df.drop(columns={'descricao'}),\n",
    "                                                        df.descricao,\n",
    "                                                        stratify=df.descricao,\n",
    "                                                        test_size=0.3)\n",
    "df_train = x_train\n",
    "df_train['descricao'] = y_train\n",
    "\n",
    "df_test = x_test\n",
    "df_test['descricao'] = y_test\n",
    "\n",
    "filename_train = \"segregation/train_data.csv\"\n",
    "\n",
    "df_train.to_csv(filename_train,index=False)\n",
    "\n",
    "task.upload_artifact(name=\"train_data\", artifact_object=filename_train,metadata=dict(\n",
    "                                    description=\"Dados para treino do modelo\"\n",
    "))\n",
    "\n",
    "filename_test = \"segregation/test_data.csv\"\n",
    "\n",
    "df_test.to_csv(filename_test,index=False)\n",
    "# Create a new artifact and upload\n",
    "\n",
    "task.upload_artifact(name=\"test_data\", artifact_object=filename_test,metadata=dict(\n",
    "                                    description=\"Dados para teste do modelo\"\n",
    "))"
   ]
  },
  {
   "cell_type": "code",
   "execution_count": null,
   "id": "487164c9",
   "metadata": {},
   "outputs": [],
   "source": []
  }
 ],
 "metadata": {
  "kernelspec": {
   "display_name": "Python 3",
   "language": "python",
   "name": "python3"
  },
  "language_info": {
   "codemirror_mode": {
    "name": "ipython",
    "version": 3
   },
   "file_extension": ".py",
   "mimetype": "text/x-python",
   "name": "python",
   "nbconvert_exporter": "python",
   "pygments_lexer": "ipython3",
   "version": "3.8.8"
  }
 },
 "nbformat": 4,
 "nbformat_minor": 5
}
