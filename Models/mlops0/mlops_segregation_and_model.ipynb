{
  "nbformat": 4,
  "nbformat_minor": 0,
  "metadata": {
    "colab": {
      "name": "mlops_segregation_and_model.ipynb",
      "provenance": [],
      "collapsed_sections": [],
      "authorship_tag": "ABX9TyOoZSzqgVdFy8547mjwmA3b",
      "include_colab_link": true
    },
    "kernelspec": {
      "name": "python3",
      "display_name": "Python 3"
    },
    "language_info": {
      "name": "python"
    }
  },
  "cells": [
    {
      "cell_type": "markdown",
      "metadata": {
        "id": "view-in-github",
        "colab_type": "text"
      },
      "source": [
        "<a href=\"https://colab.research.google.com/github/diego2017003/Mlops_student_freedata_analysis_pipeline/blob/main/Models/mlops0/mlops_segregation_and_model.ipynb\" target=\"_parent\"><img src=\"https://colab.research.google.com/assets/colab-badge.svg\" alt=\"Open In Colab\"/></a>"
      ]
    },
    {
      "cell_type": "code",
      "execution_count": 2,
      "metadata": {
        "id": "lTf4D0GN5gjX"
      },
      "outputs": [],
      "source": [
        "import argparse\n",
        "import logging\n",
        "import os\n",
        "import yaml\n",
        "import seaborn as sns\n",
        "from sklearn.impute import SimpleImputer\n",
        "import pandas as pd\n",
        "import matplotlib.pyplot as plt\n",
        "from sklearn.model_selection import train_test_split\n",
        "from sklearn.neighbors import LocalOutlierFactor\n",
        "from sklearn.base import BaseEstimator, TransformerMixin\n",
        "from sklearn.preprocessing import LabelEncoder\n",
        "from sklearn.preprocessing import OneHotEncoder\n",
        "from sklearn.preprocessing import MinMaxScaler\n",
        "from sklearn.preprocessing import StandardScaler\n",
        "from sklearn.pipeline import Pipeline, FeatureUnion\n",
        "from sklearn.metrics import roc_auc_score\n",
        "from sklearn.metrics import classification_report\n",
        "from sklearn.metrics import confusion_matrix\n",
        "from sklearn.metrics import plot_confusion_matrix\n",
        "from sklearn.metrics import ConfusionMatrixDisplay\n",
        "from sklearn.metrics import accuracy_score\n",
        "from sklearn.tree import DecisionTreeClassifier\n",
        "from sklearn.tree import plot_tree\n",
        "#from clearml import StorageManager"
      ]
    },
    {
      "cell_type": "markdown",
      "source": [
        "### 1. Rascunho e exploração de modelos\n",
        "---"
      ],
      "metadata": {
        "id": "g0Hzeh9T5quF"
      }
    },
    {
      "cell_type": "code",
      "source": [
        "# !pip install clearml"
      ],
      "metadata": {
        "id": "HYujbx8dNaqM"
      },
      "execution_count": 3,
      "outputs": []
    },
    {
      "cell_type": "code",
      "source": [
        "# !pip install clearml"
      ],
      "metadata": {
        "id": "_Sj1XA9zNa_w"
      },
      "execution_count": 4,
      "outputs": []
    },
    {
      "cell_type": "code",
      "source": [
        "# !pip install clearml numpy clearml-agent 'pyjwt<1.8.0'"
      ],
      "metadata": {
        "id": "RKqbwr6ubrxD"
      },
      "execution_count": 5,
      "outputs": []
    },
    {
      "cell_type": "code",
      "source": [
        "# %%bash\n",
        "\n",
        "# export api=`cat <<EOF\n",
        "# api {\n",
        "#     # Stef Telford's workspace\n",
        "#     web_server: https://app.community.clrml.com\n",
        "#     api_server: https://api.community.clrml.com\n",
        "#     files_server: https://files.community.clrml.com\n",
        "#     credentials {\n",
        "#         \"access_key\" = \"3ZJX3UQ9YS87PD4A1G\"\n",
        "#         \"secret_key\" = \"=OfK#N@Y&mFtC)VHWVqTJIb52QUZPfuJ&bSYD4!uUk(t7ENv\"\n",
        "#     }\n",
        "# }\n",
        "# EOF\n",
        "# `\n",
        "# echo \"$api\" > /root/clearml.conf"
      ],
      "metadata": {
        "id": "MFm3UbDDfo6m"
      },
      "execution_count": 6,
      "outputs": []
    },
    {
      "cell_type": "code",
      "source": [
        "# !clearml-agent daemon --queue default"
      ],
      "metadata": {
        "id": "Iwcr2eLtfr3F"
      },
      "execution_count": 7,
      "outputs": []
    },
    {
      "cell_type": "code",
      "source": [
        "# from clearml import StorageManager\n",
        "\n",
        "# manager = StorageManager()\n",
        "# dataset_path = manager.get_local_copy(\n",
        "#     remote_url=\"https://files.clear.ml/a%20ML%20example/Prepreocessing.e08834ed846640c68d05d7b6d81b99e1/artifacts/processed_data/preprocessed_data.csv\"\n",
        "# )"
      ],
      "metadata": {
        "id": "_U2geY79NAIb"
      },
      "execution_count": 8,
      "outputs": []
    },
    {
      "cell_type": "code",
      "source": [
        "data = pd.read_csv(\"preprocessed_data(1).csv\",sep=',',encoding='utf-8')"
      ],
      "metadata": {
        "id": "RvsxIavOn1XS"
      },
      "execution_count": 9,
      "outputs": []
    },
    {
      "cell_type": "code",
      "source": [
        "# c = data.columns\n",
        "# for i in c:\n",
        "#   print(i)\n",
        "#   print(data[i].value_counts())\n"
      ],
      "metadata": {
        "id": "3Swyc8ChoEJb"
      },
      "execution_count": 10,
      "outputs": []
    },
    {
      "cell_type": "code",
      "source": [
        "data.area_conhecimento.value_counts()"
      ],
      "metadata": {
        "id": "CSUciMXCbE7a",
        "outputId": "3b5efe3e-a967-4a24-edee-c8c695b2b690",
        "colab": {
          "base_uri": "https://localhost:8080/"
        }
      },
      "execution_count": 11,
      "outputs": [
        {
          "output_type": "execute_result",
          "data": {
            "text/plain": [
              "Ciências da Saúde              2042\n",
              "Ciências Exatas e da Terra     1745\n",
              "Ciências Sociais Aplicadas     1128\n",
              "Engenharias                    1050\n",
              "Ciências Humanas                865\n",
              "Linguística, Letras e Artes     724\n",
              "Ciências Biológicas             535\n",
              "Ciências Agrárias               191\n",
              "Outra                            61\n",
              "Name: area_conhecimento, dtype: int64"
            ]
          },
          "metadata": {},
          "execution_count": 11
        }
      ]
    },
    {
      "cell_type": "code",
      "source": [
        "data['sexo'].replace({\"M\":\"0\",\"F\":\"1\",\"false\":\"2\"},inplace=True)\n",
        "data['idade'] = 2020 - data['ano_nascimento'].astype(int)\n",
        "data['local_ou_de_fora'] = (data['estado_origem']==('Rio Grande do Norte'))\n",
        "data['raca'].fillna(value='Não Informado',inplace=True)\n",
        "data['area_conhecimento'].fillna(value='Outra',inplace=True)\n",
        "data['grau_academico'].fillna(value='OUTRO',inplace=True)\n",
        "data['grau_academico'].replace({'BACHARELADO':'3', 'LICENCIATURA':'2', 'TECNOLÓGICO':'1',\"OUTRO\":\"0\"},inplace=True)\n",
        "data['descricao'].replace({'APROVADO':'1',\"FALHOU\":\"0\",\"REPROVADO POR NOTA E FALTA\":\"0\"},inplace=True)"
      ],
      "metadata": {
        "id": "IChJ4f3vs26C"
      },
      "execution_count": 12,
      "outputs": []
    },
    {
      "cell_type": "code",
      "source": [
        "data['raca'].unique()"
      ],
      "metadata": {
        "colab": {
          "base_uri": "https://localhost:8080/"
        },
        "id": "d1Ua5-mAWrIz",
        "outputId": "03061f01-70f3-46b9-b084-aa503876fa67"
      },
      "execution_count": 13,
      "outputs": [
        {
          "output_type": "execute_result",
          "data": {
            "text/plain": [
              "array(['Negro', 'Branco', 'Pardo', 'Não Informado',\n",
              "       'Amarelo (de origem oriental)', 'Indígena',\n",
              "       'Remanescente de quilombo'], dtype=object)"
            ]
          },
          "metadata": {},
          "execution_count": 13
        }
      ]
    },
    {
      "cell_type": "code",
      "source": [
        "X = data.drop(columns=['descricao'])\n",
        "y = data['descricao']"
      ],
      "metadata": {
        "id": "kfLq37xbZIDh"
      },
      "execution_count": 14,
      "outputs": []
    },
    {
      "cell_type": "code",
      "source": [
        "!pip install imbalanced-learn"
      ],
      "metadata": {
        "colab": {
          "base_uri": "https://localhost:8080/"
        },
        "id": "85bVhQskZoKw",
        "outputId": "668a7422-fb9f-4305-e01a-888fd750647e"
      },
      "execution_count": 15,
      "outputs": [
        {
          "output_type": "stream",
          "name": "stdout",
          "text": [
            "Requirement already satisfied: imbalanced-learn in /usr/local/lib/python3.7/dist-packages (0.8.1)\n",
            "Requirement already satisfied: scikit-learn>=0.24 in /usr/local/lib/python3.7/dist-packages (from imbalanced-learn) (1.0.2)\n",
            "Requirement already satisfied: joblib>=0.11 in /usr/local/lib/python3.7/dist-packages (from imbalanced-learn) (1.1.0)\n",
            "Requirement already satisfied: scipy>=0.19.1 in /usr/local/lib/python3.7/dist-packages (from imbalanced-learn) (1.4.1)\n",
            "Requirement already satisfied: numpy>=1.13.3 in /usr/local/lib/python3.7/dist-packages (from imbalanced-learn) (1.21.5)\n",
            "Requirement already satisfied: threadpoolctl>=2.0.0 in /usr/local/lib/python3.7/dist-packages (from scikit-learn>=0.24->imbalanced-learn) (3.1.0)\n"
          ]
        }
      ]
    },
    {
      "cell_type": "code",
      "source": [
        "# from imblearn.under_sampling import RandomUnderSampler\n",
        "# undersample = RandomUnderSampler(sampling_strategy=0.5)\n",
        "# X_over, y_over = undersample.fit_resample(X, y)"
      ],
      "metadata": {
        "id": "yxd1d2QfZGMM"
      },
      "execution_count": 16,
      "outputs": []
    },
    {
      "cell_type": "code",
      "source": [
        "# X_over['descricao'] = y_over\n",
        "# data = X_over"
      ],
      "metadata": {
        "id": "0eYRf_SjaD3E"
      },
      "execution_count": 17,
      "outputs": []
    },
    {
      "cell_type": "code",
      "source": [
        "# data.replace({\"<\":''},inplace=True)"
      ],
      "metadata": {
        "id": "iidVTFqwaL7F"
      },
      "execution_count": 18,
      "outputs": []
    },
    {
      "cell_type": "code",
      "source": [
        "#data.drop(columns=['ano_nascimento'],inplace=True)"
      ],
      "metadata": {
        "id": "RKA2xIv3AqgQ"
      },
      "execution_count": 19,
      "outputs": []
    },
    {
      "cell_type": "code",
      "source": [
        "data.columns"
      ],
      "metadata": {
        "colab": {
          "base_uri": "https://localhost:8080/"
        },
        "id": "S7DrARX5F7a_",
        "outputId": "ce8040f3-0692-4483-a868-241724ca2be2"
      },
      "execution_count": 20,
      "outputs": [
        {
          "output_type": "execute_result",
          "data": {
            "text/plain": [
              "Index(['sexo', 'ano_nascimento', 'raca', 'estado_origem', 'cidade_origem',\n",
              "       'renda', 'possui_auxilio_alimentacao', 'possui_auxilio_transporte',\n",
              "       'possui_auxilio_residencia_moradia', 'grau_academico',\n",
              "       'area_conhecimento', 'descricao', 'idade', 'local_ou_de_fora'],\n",
              "      dtype='object')"
            ]
          },
          "metadata": {},
          "execution_count": 20
        }
      ]
    },
    {
      "cell_type": "code",
      "source": [
        "#One label encoder \n",
        "from sklearn import preprocessing\n",
        "columns = ['sexo', 'raca','possui_auxilio_alimentacao', 'possui_auxilio_transporte',\n",
        "       'possui_auxilio_residencia_moradia', 'grau_academico',\n",
        "       'area_conhecimento', 'descricao','local_ou_de_fora']\n",
        "for i in columns:\n",
        "  le = LabelEncoder()\n",
        "  print(data[i].unique())\n",
        "  le.fit(data[i].unique())\n",
        "  data[i+\"_le\"] = le.transform(data[i])"
      ],
      "metadata": {
        "colab": {
          "base_uri": "https://localhost:8080/"
        },
        "id": "o24L5GsuMl0E",
        "outputId": "fe15a724-dff1-4d93-b095-40d6f2ebb7b5"
      },
      "execution_count": 21,
      "outputs": [
        {
          "output_type": "stream",
          "name": "stdout",
          "text": [
            "['0' '1' '2']\n",
            "['Negro' 'Branco' 'Pardo' 'Não Informado' 'Amarelo (de origem oriental)'\n",
            " 'Indígena' 'Remanescente de quilombo']\n",
            "[False  True]\n",
            "[False  True]\n",
            "[False  True]\n",
            "['3' '2' '1' '0']\n",
            "['Ciências Biológicas' 'Ciências da Saúde' 'Ciências Exatas e da Terra'\n",
            " 'Engenharias' 'Ciências Sociais Aplicadas' 'Ciências Humanas'\n",
            " 'Linguística, Letras e Artes' 'Ciências Agrárias' 'Outra']\n",
            "['1' '0']\n",
            "[False  True]\n"
          ]
        }
      ]
    },
    {
      "cell_type": "code",
      "source": [
        "data = data.loc[:,['idade','renda','sexo_le', 'raca_le',\n",
        "                   'possui_auxilio_alimentacao_le',\n",
        "       'possui_auxilio_transporte_le', 'possui_auxilio_residencia_moradia_le',\n",
        "       'grau_academico_le', 'area_conhecimento_le', 'local_ou_de_fora_le','descricao_le']]"
      ],
      "metadata": {
        "id": "OR4xA77zNjca"
      },
      "execution_count": 22,
      "outputs": []
    },
    {
      "cell_type": "code",
      "source": [
        "# sns.pairplot(data=data,hue='descricao_le')"
      ],
      "metadata": {
        "id": "8UojMaHvYprQ"
      },
      "execution_count": 23,
      "outputs": []
    },
    {
      "cell_type": "code",
      "source": [
        "# !pip install pycaret"
      ],
      "metadata": {
        "id": "aN0Jq6EbRi1V"
      },
      "execution_count": 24,
      "outputs": []
    },
    {
      "cell_type": "code",
      "source": [
        "# from pycaret.classification import *\n",
        "\n",
        "# exp_name = setup(data = data,  target = 'descricao_le')\n",
        "\n",
        "# best_model = compare_models()"
      ],
      "metadata": {
        "id": "MkAnHtglSHri"
      },
      "execution_count": 25,
      "outputs": []
    },
    {
      "cell_type": "code",
      "source": [
        "# best_model"
      ],
      "metadata": {
        "id": "T7yYDbexfOAD"
      },
      "execution_count": 26,
      "outputs": []
    },
    {
      "cell_type": "code",
      "source": [
        "x_train,x_test,y_train,y_test = train_test_split(data.drop(columns=['descricao_le']),\n",
        "                                                      data['descricao_le'],\n",
        "                                                      test_size=0.2,\n",
        "                                                      random_state=2,\n",
        "                                                      shuffle=True,\n",
        "                                                      stratify = data['descricao_le'])"
      ],
      "metadata": {
        "id": "HjXtinx6F7nc"
      },
      "execution_count": 27,
      "outputs": []
    },
    {
      "cell_type": "code",
      "source": [
        "from sklearn.linear_model import LogisticRegression\n",
        "\n",
        "lr = LogisticRegression(C=1.0, class_weight=None, dual=False, fit_intercept=True,\n",
        "                   intercept_scaling=1, l1_ratio=None, max_iter=1000,\n",
        "                   multi_class='auto', n_jobs=None, penalty='l2',\n",
        "                   random_state=194, solver='lbfgs', tol=0.0001, verbose=0,\n",
        "                   warm_start=False).fit(x_train, y_train)"
      ],
      "metadata": {
        "id": "7H8Nx1T5dD2D"
      },
      "execution_count": 28,
      "outputs": []
    },
    {
      "cell_type": "code",
      "source": [
        "y_predict = lr.predict(x_test)"
      ],
      "metadata": {
        "id": "AVIT8xn_dW15"
      },
      "execution_count": 29,
      "outputs": []
    },
    {
      "cell_type": "code",
      "source": [
        "cm = confusion_matrix(y_true=y_test,y_pred=y_predict,normalize='true')\n",
        "\n",
        "cmap = sns.diverging_palette(10, 240, as_cmap=True)\n",
        "\n",
        "sns.heatmap(cm,cmap=cmap, annot=True)"
      ],
      "metadata": {
        "colab": {
          "base_uri": "https://localhost:8080/",
          "height": 287
        },
        "id": "jB3lLtdLX7ln",
        "outputId": "3a746eba-424c-4f7a-b9ab-e5a576959607"
      },
      "execution_count": 30,
      "outputs": [
        {
          "output_type": "execute_result",
          "data": {
            "text/plain": [
              "<matplotlib.axes._subplots.AxesSubplot at 0x7f9cf9fffe10>"
            ]
          },
          "metadata": {},
          "execution_count": 30
        },
        {
          "output_type": "display_data",
          "data": {
            "image/png": "[encoded data removed]",
            "text/plain": [
              "<Figure size 432x288 with 2 Axes>"
            ]
          },
          "metadata": {
            "needs_background": "light"
          }
        }
      ]
    },
    {
      "cell_type": "code",
      "source": [
        "print(classification_report(y_true=y_test,y_pred=y_predict))"
      ],
      "metadata": {
        "colab": {
          "base_uri": "https://localhost:8080/"
        },
        "id": "6FK795KSGAi_",
        "outputId": "afbdceef-5d0f-42bb-e640-7ff1359f2062"
      },
      "execution_count": 31,
      "outputs": [
        {
          "output_type": "stream",
          "name": "stdout",
          "text": [
            "              precision    recall  f1-score   support\n",
            "\n",
            "           0       0.00      0.00      0.00       318\n",
            "           1       0.81      1.00      0.89      1351\n",
            "\n",
            "    accuracy                           0.81      1669\n",
            "   macro avg       0.40      0.50      0.45      1669\n",
            "weighted avg       0.66      0.81      0.72      1669\n",
            "\n"
          ]
        }
      ]
    },
    {
      "cell_type": "code",
      "source": [
        "import sklearn\n",
        "sklearn.metrics.SCORERS"
      ],
      "metadata": {
        "colab": {
          "base_uri": "https://localhost:8080/"
        },
        "id": "I5m_IMQCEPBN",
        "outputId": "ef2b6199-7621-4162-c9bf-7a09fad488dc"
      },
      "execution_count": 32,
      "outputs": [
        {
          "output_type": "execute_result",
          "data": {
            "text/plain": [
              "{'accuracy': make_scorer(accuracy_score),\n",
              " 'adjusted_mutual_info_score': make_scorer(adjusted_mutual_info_score),\n",
              " 'adjusted_rand_score': make_scorer(adjusted_rand_score),\n",
              " 'average_precision': make_scorer(average_precision_score, needs_threshold=True),\n",
              " 'balanced_accuracy': make_scorer(balanced_accuracy_score),\n",
              " 'completeness_score': make_scorer(completeness_score),\n",
              " 'explained_variance': make_scorer(explained_variance_score),\n",
              " 'f1': make_scorer(f1_score, average=binary),\n",
              " 'f1_macro': make_scorer(f1_score, pos_label=None, average=macro),\n",
              " 'f1_micro': make_scorer(f1_score, pos_label=None, average=micro),\n",
              " 'f1_samples': make_scorer(f1_score, pos_label=None, average=samples),\n",
              " 'f1_weighted': make_scorer(f1_score, pos_label=None, average=weighted),\n",
              " 'fowlkes_mallows_score': make_scorer(fowlkes_mallows_score),\n",
              " 'homogeneity_score': make_scorer(homogeneity_score),\n",
              " 'jaccard': make_scorer(jaccard_score, average=binary),\n",
              " 'jaccard_macro': make_scorer(jaccard_score, pos_label=None, average=macro),\n",
              " 'jaccard_micro': make_scorer(jaccard_score, pos_label=None, average=micro),\n",
              " 'jaccard_samples': make_scorer(jaccard_score, pos_label=None, average=samples),\n",
              " 'jaccard_weighted': make_scorer(jaccard_score, pos_label=None, average=weighted),\n",
              " 'max_error': make_scorer(max_error, greater_is_better=False),\n",
              " 'mutual_info_score': make_scorer(mutual_info_score),\n",
              " 'neg_brier_score': make_scorer(brier_score_loss, greater_is_better=False, needs_proba=True),\n",
              " 'neg_log_loss': make_scorer(log_loss, greater_is_better=False, needs_proba=True),\n",
              " 'neg_mean_absolute_error': make_scorer(mean_absolute_error, greater_is_better=False),\n",
              " 'neg_mean_absolute_percentage_error': make_scorer(mean_absolute_percentage_error, greater_is_better=False),\n",
              " 'neg_mean_gamma_deviance': make_scorer(mean_gamma_deviance, greater_is_better=False),\n",
              " 'neg_mean_poisson_deviance': make_scorer(mean_poisson_deviance, greater_is_better=False),\n",
              " 'neg_mean_squared_error': make_scorer(mean_squared_error, greater_is_better=False),\n",
              " 'neg_mean_squared_log_error': make_scorer(mean_squared_log_error, greater_is_better=False),\n",
              " 'neg_median_absolute_error': make_scorer(median_absolute_error, greater_is_better=False),\n",
              " 'neg_root_mean_squared_error': make_scorer(mean_squared_error, greater_is_better=False, squared=False),\n",
              " 'normalized_mutual_info_score': make_scorer(normalized_mutual_info_score),\n",
              " 'precision': make_scorer(precision_score, average=binary),\n",
              " 'precision_macro': make_scorer(precision_score, pos_label=None, average=macro),\n",
              " 'precision_micro': make_scorer(precision_score, pos_label=None, average=micro),\n",
              " 'precision_samples': make_scorer(precision_score, pos_label=None, average=samples),\n",
              " 'precision_weighted': make_scorer(precision_score, pos_label=None, average=weighted),\n",
              " 'r2': make_scorer(r2_score),\n",
              " 'rand_score': make_scorer(rand_score),\n",
              " 'recall': make_scorer(recall_score, average=binary),\n",
              " 'recall_macro': make_scorer(recall_score, pos_label=None, average=macro),\n",
              " 'recall_micro': make_scorer(recall_score, pos_label=None, average=micro),\n",
              " 'recall_samples': make_scorer(recall_score, pos_label=None, average=samples),\n",
              " 'recall_weighted': make_scorer(recall_score, pos_label=None, average=weighted),\n",
              " 'roc_auc': make_scorer(roc_auc_score, needs_threshold=True),\n",
              " 'roc_auc_ovo': make_scorer(roc_auc_score, needs_proba=True, multi_class=ovo),\n",
              " 'roc_auc_ovo_weighted': make_scorer(roc_auc_score, needs_proba=True, multi_class=ovo, average=weighted),\n",
              " 'roc_auc_ovr': make_scorer(roc_auc_score, needs_proba=True, multi_class=ovr),\n",
              " 'roc_auc_ovr_weighted': make_scorer(roc_auc_score, needs_proba=True, multi_class=ovr, average=weighted),\n",
              " 'top_k_accuracy': make_scorer(top_k_accuracy_score, needs_threshold=True),\n",
              " 'v_measure_score': make_scorer(v_measure_score)}"
            ]
          },
          "metadata": {},
          "execution_count": 32
        }
      ]
    },
    {
      "cell_type": "code",
      "source": [
        "# from sklearn.model_selection import GridSearchCV\n",
        "# from sklearn.neural_network import MLPClassifier\n",
        "# X = data.drop(columns=['descricao_le'])\n",
        "# y = data['descricao_le']\n",
        "# param_grid = [\n",
        "#         {\n",
        "#             'activation' : ['identity', 'logistic', 'tanh', 'relu'],\n",
        "#             'learning_rate': ['constant', 'invscaling', 'adaptive'],\n",
        "#             'solver' : ['lbfgs', 'sgd', 'adam'],\n",
        "#             'hidden_layer_sizes': [\n",
        "#              (1,1,),(1,2,),(1,3,),(1,4,),(1,5,),(2,1,),(2,2,),(2,3,),(2,4,),(2,5,),(3,1,),(3,2,),(3,3,),(3,4,),(3,5,)\n",
        "#              ,(4,1,),(4,2,),(4,3,),(4,4,),(4,5,),(5,1,),(5,2,),(5,3,),(5,4,),(5,5,)\n",
        "#              ]\n",
        "#         }\n",
        "#        ]\n",
        "# clf = GridSearchCV(MLPClassifier(), param_grid, cv=3,scoring='precision')\n",
        "\n",
        "# clf.fit(X,y)\n",
        "\n",
        "\n",
        "# print(\"Best parameters set found on development set:\")\n",
        "# print(clf.best_params_)"
      ],
      "metadata": {
        "id": "seIr40oQC9os"
      },
      "execution_count": 33,
      "outputs": []
    },
    {
      "cell_type": "code",
      "source": [
        "#precision_mean_macro_{'activation': 'identity', 'hidden_layer_sizes': (1, 1), 'learning_rate': 'adaptive', 'solver': 'adam'}\n",
        "#precision_{'activation': 'identity', 'hidden_layer_sizes': (5, 3), 'learning_rate': 'adaptive', 'solver': 'lbfgs'}"
      ],
      "metadata": {
        "id": "sj4rlMLxQvjV"
      },
      "execution_count": 34,
      "outputs": []
    },
    {
      "cell_type": "code",
      "source": [
        "from sklearn.neural_network import MLPClassifier\n",
        "\n",
        "mlp1 = MLPClassifier(activation= 'identity', hidden_layer_sizes= (1, 1), learning_rate= 'adaptive', solver= 'adam')\n",
        "mlp2= MLPClassifier(activation= 'identity', hidden_layer_sizes= (5, 3), learning_rate= 'adaptive', solver= 'lbfgs')\n",
        "mlp1.fit(x_train,y_train)\n",
        "mlp2.fit(x_train,y_train)\n",
        "\n",
        "y_pred1 = mlp1.predict(x_test)\n",
        "y_pred2 = mlp2.predict(x_test)\n",
        "\n",
        "cm = confusion_matrix(y_true=y_test,y_pred=y_pred1,normalize='true')\n",
        "\n",
        "cmap = sns.diverging_palette(10, 240, as_cmap=True)\n",
        "print(classification_report(y_true=y_test,y_pred=y_pred1))\n",
        "sns.heatmap(cm,cmap=cmap, annot=True)"
      ],
      "metadata": {
        "colab": {
          "base_uri": "https://localhost:8080/",
          "height": 693
        },
        "id": "De6cAjHolCwa",
        "outputId": "29c0b795-4f23-44f7-b7ec-1f761c4689b0"
      },
      "execution_count": 35,
      "outputs": [
        {
          "output_type": "stream",
          "name": "stdout",
          "text": [
            "              precision    recall  f1-score   support\n",
            "\n",
            "           0       0.00      0.00      0.00       318\n",
            "           1       0.81      1.00      0.89      1351\n",
            "\n",
            "    accuracy                           0.81      1669\n",
            "   macro avg       0.40      0.50      0.45      1669\n",
            "weighted avg       0.66      0.81      0.72      1669\n",
            "\n"
          ]
        },
        {
          "output_type": "stream",
          "name": "stderr",
          "text": [
            "/usr/local/lib/python3.7/dist-packages/sklearn/neural_network/_multilayer_perceptron.py:549: ConvergenceWarning: lbfgs failed to converge (status=2):\n",
            "ABNORMAL_TERMINATION_IN_LNSRCH.\n",
            "\n",
            "Increase the number of iterations (max_iter) or scale the data as shown in:\n",
            "    https://scikit-learn.org/stable/modules/preprocessing.html\n",
            "  self.n_iter_ = _check_optimize_result(\"lbfgs\", opt_res, self.max_iter)\n",
            "/usr/local/lib/python3.7/dist-packages/sklearn/metrics/_classification.py:1318: UndefinedMetricWarning: Precision and F-score are ill-defined and being set to 0.0 in labels with no predicted samples. Use `zero_division` parameter to control this behavior.\n",
            "  _warn_prf(average, modifier, msg_start, len(result))\n",
            "/usr/local/lib/python3.7/dist-packages/sklearn/metrics/_classification.py:1318: UndefinedMetricWarning: Precision and F-score are ill-defined and being set to 0.0 in labels with no predicted samples. Use `zero_division` parameter to control this behavior.\n",
            "  _warn_prf(average, modifier, msg_start, len(result))\n",
            "/usr/local/lib/python3.7/dist-packages/sklearn/metrics/_classification.py:1318: UndefinedMetricWarning: Precision and F-score are ill-defined and being set to 0.0 in labels with no predicted samples. Use `zero_division` parameter to control this behavior.\n",
            "  _warn_prf(average, modifier, msg_start, len(result))\n"
          ]
        },
        {
          "output_type": "execute_result",
          "data": {
            "text/plain": [
              "<matplotlib.axes._subplots.AxesSubplot at 0x7f9cf7298d50>"
            ]
          },
          "metadata": {},
          "execution_count": 35
        },
        {
          "output_type": "display_data",
          "data": {
            "image/png": "[encoded data removed]",
            "text/plain": [
              "<Figure size 432x288 with 2 Axes>"
            ]
          },
          "metadata": {
            "needs_background": "light"
          }
        }
      ]
    },
    {
      "cell_type": "code",
      "source": [
        "cm = confusion_matrix(y_true=y_test,y_pred=y_pred2,normalize='true')\n",
        "\n",
        "cmap = sns.diverging_palette(10, 240, as_cmap=True)\n",
        "print(classification_report(y_true=y_test,y_pred=y_pred2))\n",
        "sns.heatmap(cm,cmap=cmap, annot=True)"
      ],
      "metadata": {
        "colab": {
          "base_uri": "https://localhost:8080/",
          "height": 583
        },
        "id": "AStcZpMbqW2V",
        "outputId": "8cf75b0d-0d99-40b3-f3de-49c5577b2a95"
      },
      "execution_count": 36,
      "outputs": [
        {
          "output_type": "stream",
          "name": "stdout",
          "text": [
            "              precision    recall  f1-score   support\n",
            "\n",
            "           0       0.00      0.00      0.00       318\n",
            "           1       0.81      1.00      0.89      1351\n",
            "\n",
            "    accuracy                           0.81      1669\n",
            "   macro avg       0.40      0.50      0.45      1669\n",
            "weighted avg       0.66      0.81      0.72      1669\n",
            "\n"
          ]
        },
        {
          "output_type": "stream",
          "name": "stderr",
          "text": [
            "/usr/local/lib/python3.7/dist-packages/sklearn/metrics/_classification.py:1318: UndefinedMetricWarning: Precision and F-score are ill-defined and being set to 0.0 in labels with no predicted samples. Use `zero_division` parameter to control this behavior.\n",
            "  _warn_prf(average, modifier, msg_start, len(result))\n",
            "/usr/local/lib/python3.7/dist-packages/sklearn/metrics/_classification.py:1318: UndefinedMetricWarning: Precision and F-score are ill-defined and being set to 0.0 in labels with no predicted samples. Use `zero_division` parameter to control this behavior.\n",
            "  _warn_prf(average, modifier, msg_start, len(result))\n",
            "/usr/local/lib/python3.7/dist-packages/sklearn/metrics/_classification.py:1318: UndefinedMetricWarning: Precision and F-score are ill-defined and being set to 0.0 in labels with no predicted samples. Use `zero_division` parameter to control this behavior.\n",
            "  _warn_prf(average, modifier, msg_start, len(result))\n"
          ]
        },
        {
          "output_type": "execute_result",
          "data": {
            "text/plain": [
              "<matplotlib.axes._subplots.AxesSubplot at 0x7f9cf7806450>"
            ]
          },
          "metadata": {},
          "execution_count": 36
        },
        {
          "output_type": "display_data",
          "data": {
            "image/png": "[encoded data removed]",
            "text/plain": [
              "<Figure size 432x288 with 2 Axes>"
            ]
          },
          "metadata": {
            "needs_background": "light"
          }
        }
      ]
    },
    {
      "cell_type": "code",
      "source": [
        "from joblib import dump, load\n",
        "dump(lr, 'regressao_logistica.joblib')\n",
        "dump(mlp1, 'mlp_better_accuracy.joblib')\n",
        "dump(mlp2, 'mlp_better_precision.joblib')"
      ],
      "metadata": {
        "colab": {
          "base_uri": "https://localhost:8080/"
        },
        "id": "jduW3hIZtFiM",
        "outputId": "aadd9a60-3c80-4fee-814b-fe8613342b61"
      },
      "execution_count": 37,
      "outputs": [
        {
          "output_type": "execute_result",
          "data": {
            "text/plain": [
              "['mlp_better_precision.joblib']"
            ]
          },
          "metadata": {},
          "execution_count": 37
        }
      ]
    },
    {
      "cell_type": "markdown",
      "source": [
        "### 2. Criação do modelo \n",
        "---"
      ],
      "metadata": {
        "id": "NYvwZA0E56tJ"
      }
    },
    {
      "cell_type": "code",
      "source": [
        "# configure logging\n",
        "logging.basicConfig(level=logging.INFO,\n",
        "                    format=\"%(asctime)s %(message)s\",\n",
        "                    datefmt='%d-%m-%Y %H:%M:%S')\n",
        "\n",
        "# reference for a logging obj\n",
        "logger = logging.getLogger()\n"
      ],
      "metadata": {
        "id": "KCjYiTVb6DN0"
      },
      "execution_count": 38,
      "outputs": []
    },
    {
      "cell_type": "code",
      "source": [
        "#Custom Transformer that extracts columns passed as argument to its constructor \n",
        "class FeatureSelector( BaseEstimator, TransformerMixin ):\n",
        "    #Class Constructor \n",
        "    def __init__( self, feature_names ):\n",
        "        self.feature_names = feature_names \n",
        "    \n",
        "    #Return self nothing else to do here    \n",
        "    def fit( self, X, y = None ):\n",
        "        return self \n",
        "    \n",
        "    #Method that describes what we need this transformer to do\n",
        "    def transform( self, X, y = None ):\n",
        "        print(self.feature_names)\n",
        "        print(X.columns)\n",
        "        return X[ self.feature_names ]"
      ],
      "metadata": {
        "id": "icVlzSvKA1OH"
      },
      "execution_count": 39,
      "outputs": []
    },
    {
      "cell_type": "code",
      "source": [
        "# Handling categorical features \n",
        "class CategoricalTransformer( BaseEstimator, TransformerMixin ):\n",
        "    # Class constructor method that takes one boolean as its argument\n",
        "    def __init__(self, new_features=True, colnames=None):\n",
        "        self.new_features = new_features\n",
        "        self.colnames = colnames\n",
        "\n",
        "    #Return self nothing else to do here    \n",
        "    def fit( self, X, y = None ):\n",
        "        return self \n",
        "\n",
        "    def get_feature_names(self):\n",
        "        return self.colnames.tolist()\n",
        "\n",
        "    # Transformer method we wrote for this transformer \n",
        "    def transform(self, X , y = None):\n",
        "        df = pd.DataFrame(X,columns=self.colnames)\n",
        "        \n",
        "        columns = self.colnames\n",
        "        print(columns)\n",
        "        c = []\n",
        "        # Create new features with label Encoding\n",
        "        for i in columns:\n",
        "          df[i] = df[i].astype(str)\n",
        "          df[i].fillna(value='não informado',inplace=True)\n",
        "          le = LabelEncoder()\n",
        "          print(i)\n",
        "          le.fit(df[i].unique().astype(str))\n",
        "          df[i+'_le'] = le.transform(df[i])\n",
        "          c.append(i+'_le')\n",
        "        \n",
        "        print(df.head())\n",
        "        # update column names\n",
        "        self.colnames = df.columns      \n",
        "        print(type(df.loc[:,c]))\n",
        "        df = df.loc[:,c]\n",
        "        return df"
      ],
      "metadata": {
        "id": "RZclR3dc60lA"
      },
      "execution_count": 40,
      "outputs": []
    },
    {
      "cell_type": "code",
      "source": [
        "# transform numerical features\n",
        "class NumericalTransformer( BaseEstimator, TransformerMixin ):\n",
        "    # Class constructor method that takes a model parameter as its argument\n",
        "    # model 0: minmax\n",
        "    # model 1: standard\n",
        "    # model 2: without scaler\n",
        "    def __init__(self, model = 0, colnames=None):\n",
        "        self.model = model\n",
        "        self.colnames = colnames\n",
        "\n",
        "    #Return self nothing else to do here    \n",
        "    def fit( self, X, y = None ):\n",
        "        return self\n",
        "\n",
        "    # return columns names after transformation\n",
        "    def get_feature_names(self):\n",
        "        return self.colnames \n",
        "\n",
        "    #Transformer method we wrote for this transformer \n",
        "    def transform(self, X , y = None ):\n",
        "        df = pd.DataFrame(X,columns=self.colnames)\n",
        "        self.colnames = df.columns.tolist()\n",
        "      \n",
        "\n",
        "        if self.model == 0: \n",
        "            scaler = MinMaxScaler()\n",
        "            # transform data\n",
        "            df = scaler.fit_transform(df)\n",
        "            \n",
        "        elif self.model == 1:\n",
        "            scaler = StandardScaler()\n",
        "            # transform data\n",
        "            df = scaler.fit_transform(df)\n",
        "        else:\n",
        "            df = df.values\n",
        "        print(type(df))\n",
        "        return df"
      ],
      "metadata": {
        "id": "db-lojmy73er"
      },
      "execution_count": 41,
      "outputs": []
    },
    {
      "cell_type": "code",
      "source": [
        "import yaml\n",
        "def process_args():\n",
        "\n",
        "    data = pd.read_csv(\"/content/preprocessed_data(1).csv\",encoding='utf-8',sep=',',dtype=object)\n",
        "    with open('/content/config.yaml') as fp:\n",
        "        args = yaml.load(fp)\n",
        "    model_config = args['logistic_regression_pipeline']\n",
        "\n",
        "    data['ano_nascimento'].fillna(value='2000',inplace=True)\n",
        "    #create age feature\n",
        "    data['idade'] = 2020 - data['ano_nascimento'].astype(int)\n",
        "    data['ano_nascimento'] = data['ano_nascimento'].astype(int)\n",
        "    data['renda'] = data['renda'].astype(int)\n",
        "    # Spliting train.csv into train and validation dataset\n",
        "    logger.info(\"Spliting data into train/val\")\n",
        "    #label replacement\n",
        "    # Create logical instance from multivalue_feture\n",
        "    data['local_ou_de_fora'] = (data['estado_origem']==('Rio Grande do Norte'))\n",
        "\n",
        "    # Fill nan  for \"Outro\" category\n",
        "    data['raca'].fillna(value='Não Informado',inplace=True)\n",
        "    data['area_conhecimento'].fillna(value='Outra',inplace=True)\n",
        "    data['grau_academico'].fillna(value='OUTRO',inplace=True)\n",
        "\n",
        "    # Start label Encoder\n",
        "    data['grau_academico'].replace({'BACHARELADO':'3', 'LICENCIATURA':'2', 'TECNOLÓGICO':'1',\"OUTRO\":\"0\"},inplace=True)\n",
        "\n",
        "    data.drop(columns={'estado_origem','cidade_origem'},inplace=True)       \n",
        "    # data['sexo'].fillna(value=\"FALSE\",inplace=True)\n",
        "    # data['sexo'] = data['sexo'].replace({\"false\":\"FALSE\"},inplace=True)\n",
        "    # data['sexo'].replace({\"M\":0,\"F\":1,\"FALSE\":2},inplace=True)\n",
        "    data['descricao'].replace({'APROVADO':'1',\"FALHOU\":\"0\",\"REPROVADO POR NOTA E FALTA\":\"0\"},inplace=True)\n",
        "    data['descricao'] = pd.to_numeric(data['descricao'],errors='coerce')\n",
        "    data['descricao'].fillna(value='0',inplace=True)\n",
        "    \n",
        "    print(data.dtypes)\n",
        "    # split-out train/validation and test dataset\n",
        "    x_train,x_val,y_train,y_val = train_test_split(data.drop(columns=['descricao']),\n",
        "                                                      data['descricao'],\n",
        "                                                      test_size=0.2,\n",
        "                                                      random_state=2,\n",
        "                                                      shuffle=True,\n",
        "                                                      stratify = data['descricao'])\n",
        "    \n",
        "    logger.info(\"x train: {}\".format(x_train.shape))\n",
        "    logger.info(\"y train: {}\".format(y_train.shape))\n",
        "    logger.info(\"x val: {}\".format(x_val.shape))\n",
        "    logger.info(\"y val: {}\".format(y_val.shape))\n",
        "    logger.info(\"x train: {}\".format(list(x_train.columns)))\n",
        "    logger.info(\"Removal Outliers\")\n",
        "    # temporary variable\n",
        "    x = x_train.select_dtypes(\"int64\").copy()\n",
        "\n",
        "    # identify outlier in the dataset\n",
        "    lof = LocalOutlierFactor()\n",
        "    outlier = lof.fit_predict(x)\n",
        "    mask = (outlier != -1)\n",
        "\n",
        "    logger.info(\"x_train shape [original]: {}\".format(x_train.shape))\n",
        "    logger.info(\"x_train shape [outlier removal]: {}\".format(x_train.loc[mask,:].shape))\n",
        "\n",
        "    # dataset without outlier, note this step could be done during the preprocesing stage\n",
        "    x_train = x_train.loc[mask,:].copy()\n",
        "    y_train = y_train[mask].copy()\n",
        "    logger.info(\"Encoding Target Variable\")\n",
        "    # define a categorical encoding for target variable\n",
        "    le = LabelEncoder()\n",
        "\n",
        "    # fit and transform y_train\n",
        "    y_train = le.fit_transform(y_train)\n",
        "    # transform y_test (avoiding data leakage)\n",
        "    y_val = le.transform(y_val)\n",
        "    print(y_train)\n",
        "    logger.info(\"Classes [0, 1]: {}\".format(le.inverse_transform([0, 1])))\n",
        "    \n",
        "    # Pipeline generation\n",
        "    logger.info(\"Pipeline generation\")\n",
        "    \n",
        "    # Categrical features to pass down the categorical pipeline \n",
        "    categorical_features = x_train.select_dtypes([\"object\",'bool']).columns.to_list()\n",
        "\n",
        "    # Numerical features to pass down the numerical pipeline \n",
        "    numerical_features = x_train.select_dtypes(\"int64\").columns.to_list()\n",
        "    print(len(numerical_features)+len(categorical_features))\n",
        "    # Defining the steps in the categorical pipeline \n",
        "    logger.info(FeatureSelector(categorical_features))\n",
        "    categorical_pipeline = Pipeline(steps = [('cat_selector',FeatureSelector(categorical_features)),\n",
        "                                            ('imputer_cat', SimpleImputer(strategy=\"most_frequent\")),\n",
        "                                             ('cat_encoder',OneHotEncoder(sparse=False,drop=\"first\"))\n",
        "                                            ]\n",
        "                                   )\n",
        "    # Defining the steps in the numerical pipeline     \n",
        "    logger.info(FeatureSelector(numerical_features))\n",
        "    \n",
        "    numerical_pipeline = Pipeline(steps = [('num_selector', FeatureSelector(numerical_features)),\n",
        "                                           ('imputer_cat', SimpleImputer(strategy=\"median\")),\n",
        "                                           ('num_transformer', NumericalTransformer(model_config[\"numerical_pipe\"][\"model\"],\n",
        "                                                                                   colnames=numerical_features))\n",
        "                                          ]\n",
        "                                 )\n",
        "\n",
        "    # Combining numerical and categorical piepline into one full big pipeline horizontally \n",
        "    # using FeatureUnion\n",
        "    full_pipeline_preprocessing = FeatureUnion(transformer_list = [('cat_pipeline', categorical_pipeline),\n",
        "                                                                   ('num_pipeline', numerical_pipeline)\n",
        "                                                                  ]\n",
        "                                              )\n",
        "   \n",
        "    # The full pipeline \n",
        "    pipe = Pipeline(steps = [('full_pipeline', full_pipeline_preprocessing),\n",
        "                             (\"classifier\",LogisticRegression())\n",
        "                            ]\n",
        "                   )\n",
        "\n",
        "    # training \n",
        "    logger.info(\"Training{}\".format(list(x_train.dtypes)))\n",
        "    pipe.fit(x_train,y_train)\n",
        "\n",
        "    # predict\n",
        "    logger.info(\"Infering\")\n",
        "    predict = pipe.predict(x_val)\n",
        "\n",
        "    dump(pipe, 'pipeline_regressao_logistica.joblib')\n",
        "    return pipe,x_val,y_val"
      ],
      "metadata": {
        "id": "CoXR3i_A-eu5"
      },
      "execution_count": 46,
      "outputs": []
    },
    {
      "cell_type": "code",
      "source": [
        "with open('/content/config.yaml') as fp:\n",
        "        args = yaml.load(fp)\n"
      ],
      "metadata": {
        "id": "0hDAE1tPZ1c7"
      },
      "execution_count": 43,
      "outputs": []
    },
    {
      "cell_type": "code",
      "source": [
        "pipe,x_val,y_val = process_args()\n",
        "y_pred = pipe.predict(x_val)"
      ],
      "metadata": {
        "colab": {
          "base_uri": "https://localhost:8080/"
        },
        "id": "WLgdRwB5cSKo",
        "outputId": "222381cf-0e7d-477c-a2e9-7b1e5fd44776"
      },
      "execution_count": 47,
      "outputs": [
        {
          "output_type": "stream",
          "name": "stderr",
          "text": [
            "17-02-2022 23:48:43 Spliting data into train/val\n",
            "17-02-2022 23:48:43 x train: (6673, 11)\n",
            "17-02-2022 23:48:43 y train: (6673,)\n",
            "17-02-2022 23:48:43 x val: (1669, 11)\n",
            "17-02-2022 23:48:43 y val: (1669,)\n",
            "17-02-2022 23:48:43 x train: ['sexo', 'ano_nascimento', 'raca', 'renda', 'possui_auxilio_alimentacao', 'possui_auxilio_transporte', 'possui_auxilio_residencia_moradia', 'grau_academico', 'area_conhecimento', 'idade', 'local_ou_de_fora']\n",
            "17-02-2022 23:48:43 Removal Outliers\n",
            "17-02-2022 23:48:43 x_train shape [original]: (6673, 11)\n",
            "17-02-2022 23:48:43 x_train shape [outlier removal]: (5510, 11)\n",
            "17-02-2022 23:48:43 Encoding Target Variable\n",
            "17-02-2022 23:48:43 Classes [0, 1]: [0 1]\n",
            "17-02-2022 23:48:43 Pipeline generation\n",
            "17-02-2022 23:48:43 FeatureSelector(feature_names=['sexo', 'raca', 'possui_auxilio_alimentacao',\n",
            "                               'possui_auxilio_transporte',\n",
            "                               'possui_auxilio_residencia_moradia',\n",
            "                               'grau_academico', 'area_conhecimento',\n",
            "                               'local_ou_de_fora'])\n",
            "17-02-2022 23:48:43 FeatureSelector(feature_names=['ano_nascimento', 'renda', 'idade'])\n",
            "17-02-2022 23:48:43 Training[dtype('O'), dtype('int64'), dtype('O'), dtype('int64'), dtype('O'), dtype('O'), dtype('O'), dtype('O'), dtype('O'), dtype('int64'), dtype('bool')]\n"
          ]
        },
        {
          "output_type": "stream",
          "name": "stdout",
          "text": [
            "sexo                                 object\n",
            "ano_nascimento                        int64\n",
            "raca                                 object\n",
            "renda                                 int64\n",
            "possui_auxilio_alimentacao           object\n",
            "possui_auxilio_transporte            object\n",
            "possui_auxilio_residencia_moradia    object\n",
            "grau_academico                       object\n",
            "area_conhecimento                    object\n",
            "descricao                             int64\n",
            "idade                                 int64\n",
            "local_ou_de_fora                       bool\n",
            "dtype: object\n",
            "[0 1 1 ... 1 0 1]\n",
            "11\n",
            "['sexo', 'raca', 'possui_auxilio_alimentacao', 'possui_auxilio_transporte', 'possui_auxilio_residencia_moradia', 'grau_academico', 'area_conhecimento', 'local_ou_de_fora']\n",
            "Index(['sexo', 'ano_nascimento', 'raca', 'renda', 'possui_auxilio_alimentacao',\n",
            "       'possui_auxilio_transporte', 'possui_auxilio_residencia_moradia',\n",
            "       'grau_academico', 'area_conhecimento', 'idade', 'local_ou_de_fora'],\n",
            "      dtype='object')\n",
            "['ano_nascimento', 'renda', 'idade']\n",
            "Index(['sexo', 'ano_nascimento', 'raca', 'renda', 'possui_auxilio_alimentacao',\n",
            "       'possui_auxilio_transporte', 'possui_auxilio_residencia_moradia',\n",
            "       'grau_academico', 'area_conhecimento', 'idade', 'local_ou_de_fora'],\n",
            "      dtype='object')\n",
            "aqquuiiiiiiiii\n",
            "['ano_nascimento', 'renda', 'idade']\n",
            "Eita ['ano_nascimento', 'renda', 'idade']\n",
            "<class 'numpy.ndarray'>\n"
          ]
        },
        {
          "output_type": "stream",
          "name": "stderr",
          "text": [
            "17-02-2022 23:48:44 Infering\n"
          ]
        },
        {
          "output_type": "stream",
          "name": "stdout",
          "text": [
            "['sexo', 'raca', 'possui_auxilio_alimentacao', 'possui_auxilio_transporte', 'possui_auxilio_residencia_moradia', 'grau_academico', 'area_conhecimento', 'local_ou_de_fora']\n",
            "Index(['sexo', 'ano_nascimento', 'raca', 'renda', 'possui_auxilio_alimentacao',\n",
            "       'possui_auxilio_transporte', 'possui_auxilio_residencia_moradia',\n",
            "       'grau_academico', 'area_conhecimento', 'idade', 'local_ou_de_fora'],\n",
            "      dtype='object')\n",
            "['ano_nascimento', 'renda', 'idade']\n",
            "Index(['sexo', 'ano_nascimento', 'raca', 'renda', 'possui_auxilio_alimentacao',\n",
            "       'possui_auxilio_transporte', 'possui_auxilio_residencia_moradia',\n",
            "       'grau_academico', 'area_conhecimento', 'idade', 'local_ou_de_fora'],\n",
            "      dtype='object')\n",
            "aqquuiiiiiiiii\n",
            "['ano_nascimento', 'renda', 'idade']\n",
            "Eita ['ano_nascimento', 'renda', 'idade']\n",
            "<class 'numpy.ndarray'>\n",
            "['sexo', 'raca', 'possui_auxilio_alimentacao', 'possui_auxilio_transporte', 'possui_auxilio_residencia_moradia', 'grau_academico', 'area_conhecimento', 'local_ou_de_fora']\n",
            "Index(['sexo', 'ano_nascimento', 'raca', 'renda', 'possui_auxilio_alimentacao',\n",
            "       'possui_auxilio_transporte', 'possui_auxilio_residencia_moradia',\n",
            "       'grau_academico', 'area_conhecimento', 'idade', 'local_ou_de_fora'],\n",
            "      dtype='object')\n",
            "['ano_nascimento', 'renda', 'idade']\n",
            "Index(['sexo', 'ano_nascimento', 'raca', 'renda', 'possui_auxilio_alimentacao',\n",
            "       'possui_auxilio_transporte', 'possui_auxilio_residencia_moradia',\n",
            "       'grau_academico', 'area_conhecimento', 'idade', 'local_ou_de_fora'],\n",
            "      dtype='object')\n",
            "aqquuiiiiiiiii\n",
            "['ano_nascimento', 'renda', 'idade']\n",
            "Eita ['ano_nascimento', 'renda', 'idade']\n",
            "<class 'numpy.ndarray'>\n"
          ]
        }
      ]
    },
    {
      "cell_type": "code",
      "source": [
        "cm = confusion_matrix(y_true=y_val,y_pred=y_pred2,normalize='true')\n",
        "\n",
        "cmap = sns.diverging_palette(10, 240, as_cmap=True)\n",
        "print(classification_report(y_true=y_val,y_pred=y_pred2))\n",
        "sns.heatmap(cm,cmap=cmap, annot=True)"
      ],
      "metadata": {
        "colab": {
          "base_uri": "https://localhost:8080/",
          "height": 583
        },
        "id": "8h-TmAy6l5E6",
        "outputId": "8623ed2a-b3f2-40b5-e0fc-f1e7c5d22c20"
      },
      "execution_count": 48,
      "outputs": [
        {
          "output_type": "stream",
          "name": "stdout",
          "text": [
            "              precision    recall  f1-score   support\n",
            "\n",
            "           0       0.00      0.00      0.00       318\n",
            "           1       0.81      1.00      0.89      1351\n",
            "\n",
            "    accuracy                           0.81      1669\n",
            "   macro avg       0.40      0.50      0.45      1669\n",
            "weighted avg       0.66      0.81      0.72      1669\n",
            "\n"
          ]
        },
        {
          "output_type": "stream",
          "name": "stderr",
          "text": [
            "/usr/local/lib/python3.7/dist-packages/sklearn/metrics/_classification.py:1318: UndefinedMetricWarning: Precision and F-score are ill-defined and being set to 0.0 in labels with no predicted samples. Use `zero_division` parameter to control this behavior.\n",
            "  _warn_prf(average, modifier, msg_start, len(result))\n",
            "/usr/local/lib/python3.7/dist-packages/sklearn/metrics/_classification.py:1318: UndefinedMetricWarning: Precision and F-score are ill-defined and being set to 0.0 in labels with no predicted samples. Use `zero_division` parameter to control this behavior.\n",
            "  _warn_prf(average, modifier, msg_start, len(result))\n",
            "/usr/local/lib/python3.7/dist-packages/sklearn/metrics/_classification.py:1318: UndefinedMetricWarning: Precision and F-score are ill-defined and being set to 0.0 in labels with no predicted samples. Use `zero_division` parameter to control this behavior.\n",
            "  _warn_prf(average, modifier, msg_start, len(result))\n"
          ]
        },
        {
          "output_type": "execute_result",
          "data": {
            "text/plain": [
              "<matplotlib.axes._subplots.AxesSubplot at 0x7f9cf7099690>"
            ]
          },
          "metadata": {},
          "execution_count": 48
        },
        {
          "output_type": "display_data",
          "data": {
            "image/png": "[encoded data removed]",
            "text/plain": [
              "<Figure size 432x288 with 2 Axes>"
            ]
          },
          "metadata": {
            "needs_background": "light"
          }
        }
      ]
    }
  ]
}