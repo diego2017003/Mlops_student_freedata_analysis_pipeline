{
  "nbformat": 4,
  "nbformat_minor": 0,
  "metadata": {
    "colab": {
      "name": "mlops_download_merge.ipynb",
      "provenance": [],
      "mount_file_id": "1x0qpg6g4G4jQ5p26kL1HUP_5PfoNIyAB",
      "authorship_tag": "ABX9TyPT3GcjQH7AbAxSYSyergnh",
      "include_colab_link": true
    },
    "kernelspec": {
      "name": "python3",
      "display_name": "Python 3"
    },
    "language_info": {
      "name": "python"
    }
  },
  "cells": [
    {
      "cell_type": "markdown",
      "metadata": {
        "id": "view-in-github",
        "colab_type": "text"
      },
      "source": [
        "<a href=\"https://colab.research.google.com/github/diego2017003/Mlops_student_freedata_analysis_pipeline/blob/main/Download/mlops_download_merge.ipynb\" target=\"_parent\"><img src=\"https://colab.research.google.com/assets/colab-badge.svg\" alt=\"Open In Colab\"/></a>"
      ]
    },
    {
      "cell_type": "code",
      "execution_count": null,
      "metadata": {
        "id": "DLI99QkXHUyl"
      },
      "outputs": [],
      "source": [
        "import pandas as pd\n",
        "import numpy as np"
      ]
    },
    {
      "cell_type": "code",
      "source": [
        "url_discentes = 'https://dados.ufrn.br/dataset/80b1a8e9-2e40-4c6c-97ea-d595a3c8b8f5/resource/0e287fe5-badb-4b34-b1bf-8815db5dfbeb/download/d'\n",
        "discentes = pd.read_table(url_discentes, sep=';',dtype=object)\n",
        "url_curso = 'https://dados.ufrn.br/dataset/02526b96-cf40-4507-90b0-3afe5ddd53e7/resource/a10bc434-9a2d-491a-ae8c-41cf643c35bc/download/cursos-de-graduacao.csv'\n",
        "dados_curso = pd.read_csv(url_curso,sep=';',dtype=object)"
      ],
      "metadata": {
        "id": "aaCXfIi0IEXm"
      },
      "execution_count": null,
      "outputs": []
    },
    {
      "cell_type": "code",
      "source": [
        "url_20192 = 'https://dados.ufrn.br/dataset/8e0cb3ac-b6fa-48ef-a1ee-f2df0b893b72/resource/a947133d-ad21-4907-af12-8f0a91135af4/download/dados-socio-economicos-discentes-2019.2.csv'\n",
        "socio_Economico_20192 = pd.read_csv(url_20192,sep=';',dtype=object)"
      ],
      "metadata": {
        "id": "m8sIFg4gMXM2"
      },
      "execution_count": null,
      "outputs": []
    },
    {
      "cell_type": "code",
      "source": [
        "matriculas_20192_url = 'https://dados.ufrn.br/dataset/c8650d55-3c5a-4787-a126-d28a4ef902a6/resource/0d573a4f-de65-4c3d-b6bb-337473bc4e44/download/matricula-componente-20192.csv'\n",
        "matriculas_20192 = pd.read_csv(matriculas_20192_url,sep=';',dtype=object)\n",
        "matriculas_20192 = matriculas_20192.loc[:,['id_turma','discente','reposicao','descricao','numero_total_faltas']]\n",
        "matriculas_20192.rename(columns={'discente':'id_discente'},inplace=True)\n",
        "matriculas_20192.info()"
      ],
      "metadata": {
        "id": "UYCfuUhm-2yE",
        "colab": {
          "base_uri": "https://localhost:8080/"
        },
        "outputId": "f3a77427-94e4-4a51-b81e-314cb522881b"
      },
      "execution_count": null,
      "outputs": [
        {
          "output_type": "stream",
          "name": "stdout",
          "text": [
            "<class 'pandas.core.frame.DataFrame'>\n",
            "RangeIndex: 669552 entries, 0 to 669551\n",
            "Data columns (total 5 columns):\n",
            " #   Column               Non-Null Count   Dtype \n",
            "---  ------               --------------   ----- \n",
            " 0   id_turma             669552 non-null  object\n",
            " 1   id_discente          669552 non-null  object\n",
            " 2   reposicao            584545 non-null  object\n",
            " 3   descricao            669552 non-null  object\n",
            " 4   numero_total_faltas  625965 non-null  object\n",
            "dtypes: object(5)\n",
            "memory usage: 25.5+ MB\n"
          ]
        }
      ]
    },
    {
      "cell_type": "code",
      "source": [
        "matriculas_20205_url = 'https://dados.ufrn.br/dataset/c8650d55-3c5a-4787-a126-d28a4ef902a6/resource/54683a60-b998-4933-a4ee-a6331eba8826/download/matricula-componente-20205.csv'\n",
        "matriculas_20205 = pd.read_csv(matriculas_20205_url,sep=';',dtype=object)\n",
        "matriculas_20205 = matriculas_20205.loc[:,['id_turma','discente','reposicao','descricao','numero_total_faltas']]\n",
        "matriculas_20205.rename(columns={'discente':'id_discente'},inplace=True)\n",
        "matriculas_20205.info()"
      ],
      "metadata": {
        "colab": {
          "base_uri": "https://localhost:8080/"
        },
        "id": "gJkkSgaxBAhg",
        "outputId": "b43ac049-4b41-4985-f151-6ff1b07d7c73"
      },
      "execution_count": null,
      "outputs": [
        {
          "output_type": "stream",
          "name": "stdout",
          "text": [
            "<class 'pandas.core.frame.DataFrame'>\n",
            "RangeIndex: 165824 entries, 0 to 165823\n",
            "Data columns (total 5 columns):\n",
            " #   Column               Non-Null Count   Dtype \n",
            "---  ------               --------------   ----- \n",
            " 0   id_turma             165824 non-null  object\n",
            " 1   id_discente          165824 non-null  object\n",
            " 2   reposicao            142649 non-null  object\n",
            " 3   descricao            165824 non-null  object\n",
            " 4   numero_total_faltas  142646 non-null  object\n",
            "dtypes: object(5)\n",
            "memory usage: 6.3+ MB\n"
          ]
        }
      ]
    },
    {
      "cell_type": "code",
      "source": [
        "url_202015 = 'https://dados.ufrn.br/dataset/8e0cb3ac-b6fa-48ef-a1ee-f2df0b893b72/resource/cf818b90-0867-4d2f-a5db-9c4707db34b7/download/dados-socio-economicos-discentes-2020.1.csv'\n",
        "socio_Economico_202015 = pd.read_csv(url_202015,sep=';',dtype=object)"
      ],
      "metadata": {
        "id": "5mukRtMjNIOR"
      },
      "execution_count": null,
      "outputs": []
    },
    {
      "cell_type": "code",
      "source": [
        "discentes.info()"
      ],
      "metadata": {
        "colab": {
          "base_uri": "https://localhost:8080/"
        },
        "id": "JwGVzhyvQwuU",
        "outputId": "d3e7d6b3-491e-4669-ba61-4ee5c08dcd97"
      },
      "execution_count": null,
      "outputs": [
        {
          "output_type": "stream",
          "name": "stdout",
          "text": [
            "<class 'pandas.core.frame.DataFrame'>\n",
            "RangeIndex: 439200 entries, 0 to 439199\n",
            "Data columns (total 17 columns):\n",
            " #   Column               Non-Null Count   Dtype \n",
            "---  ------               --------------   ----- \n",
            " 0   id_discente          439200 non-null  object\n",
            " 1   sexo                 439200 non-null  object\n",
            " 2   ano_nascimento       438486 non-null  object\n",
            " 3   raca                 438839 non-null  object\n",
            " 4   estado_origem        416030 non-null  object\n",
            " 5   cidade_origem        398267 non-null  object\n",
            " 6   estado               391995 non-null  object\n",
            " 7   municipio            391995 non-null  object\n",
            " 8   bairro               363541 non-null  object\n",
            " 9   nivel_ensino         439200 non-null  object\n",
            " 10  forma_ingresso       429856 non-null  object\n",
            " 11  ano_ingresso         439200 non-null  object\n",
            " 12  periodo_ingresso     438382 non-null  object\n",
            " 13  cotista              439200 non-null  object\n",
            " 14  curso                410075 non-null  object\n",
            " 15  tipo_cota            45821 non-null   object\n",
            " 16  descricao_tipo_cota  45821 non-null   object\n",
            "dtypes: object(17)\n",
            "memory usage: 57.0+ MB\n"
          ]
        }
      ]
    },
    {
      "cell_type": "code",
      "source": [
        "dados_curso.info()"
      ],
      "metadata": {
        "colab": {
          "base_uri": "https://localhost:8080/"
        },
        "id": "KBQkCTxyPlqG",
        "outputId": "358df82a-cb45-454f-e7f2-69562e863c1e"
      },
      "execution_count": null,
      "outputs": [
        {
          "output_type": "stream",
          "name": "stdout",
          "text": [
            "<class 'pandas.core.frame.DataFrame'>\n",
            "RangeIndex: 120 entries, 0 to 119\n",
            "Data columns (total 22 columns):\n",
            " #   Column                   Non-Null Count  Dtype \n",
            "---  ------                   --------------  ----- \n",
            " 0   id_curso                 120 non-null    object\n",
            " 1   nome                     120 non-null    object\n",
            " 2   id_coordenador           112 non-null    object\n",
            " 3   coordenador              112 non-null    object\n",
            " 4   situacao_curso           120 non-null    object\n",
            " 5   nivel_ensino             120 non-null    object\n",
            " 6   grau_academico           120 non-null    object\n",
            " 7   modalidade_educacao      120 non-null    object\n",
            " 8   area_conhecimento        120 non-null    object\n",
            " 9   tipo_oferta              120 non-null    object\n",
            " 10  turno                    70 non-null     object\n",
            " 11  tipo_ciclo_formacao      120 non-null    object\n",
            " 12  municipio                120 non-null    object\n",
            " 13  campus                   65 non-null     object\n",
            " 14  id_unidade_responsavel   120 non-null    object\n",
            " 15  unidade_responsavel      120 non-null    object\n",
            " 16  website                  68 non-null     object\n",
            " 17  data_funcionamento       70 non-null     object\n",
            " 18  codigo_inep              118 non-null    object\n",
            " 19  dou                      113 non-null    object\n",
            " 20  portaria_reconhecimento  113 non-null    object\n",
            " 21  convenio_academico       3 non-null      object\n",
            "dtypes: object(22)\n",
            "memory usage: 20.8+ KB\n"
          ]
        }
      ]
    },
    {
      "cell_type": "code",
      "source": [
        "socio_Economico_202015.info()"
      ],
      "metadata": {
        "colab": {
          "base_uri": "https://localhost:8080/"
        },
        "id": "nMLeT6SKN4_t",
        "outputId": "197c9cec-fe0c-4229-8d97-fab5bb76a1d8"
      },
      "execution_count": null,
      "outputs": [
        {
          "output_type": "stream",
          "name": "stdout",
          "text": [
            "<class 'pandas.core.frame.DataFrame'>\n",
            "RangeIndex: 13725 entries, 0 to 13724\n",
            "Data columns (total 10 columns):\n",
            " #   Column                             Non-Null Count  Dtype \n",
            "---  ------                             --------------  ----- \n",
            " 0   id_discente                        13725 non-null  object\n",
            " 1   ano                                13725 non-null  object\n",
            " 2   periodo                            13725 non-null  object\n",
            " 3   renda                              13725 non-null  object\n",
            " 4   escola_ens_medio                   13725 non-null  object\n",
            " 5   possui_bolsa_pesquisa              13725 non-null  object\n",
            " 6   possui_auxilio_alimentacao         13725 non-null  object\n",
            " 7   possui_auxilio_transporte          13725 non-null  object\n",
            " 8   possui_auxilio_residencia_moradia  13725 non-null  object\n",
            " 9   id_curso                           13722 non-null  object\n",
            "dtypes: object(10)\n",
            "memory usage: 1.0+ MB\n"
          ]
        }
      ]
    },
    {
      "cell_type": "code",
      "source": [
        "dados_curso.columns"
      ],
      "metadata": {
        "colab": {
          "base_uri": "https://localhost:8080/"
        },
        "id": "WXOxn9rpRZgA",
        "outputId": "7cf823ee-d16d-4207-faf7-460d364e5ad6"
      },
      "execution_count": null,
      "outputs": [
        {
          "output_type": "execute_result",
          "data": {
            "text/plain": [
              "Index(['id_curso', 'nome', 'id_coordenador', 'coordenador', 'situacao_curso',\n",
              "       'nivel_ensino', 'grau_academico', 'modalidade_educacao',\n",
              "       'area_conhecimento', 'tipo_oferta', 'turno', 'tipo_ciclo_formacao',\n",
              "       'municipio', 'campus', 'id_unidade_responsavel', 'unidade_responsavel',\n",
              "       'website', 'data_funcionamento', 'codigo_inep', 'dou',\n",
              "       'portaria_reconhecimento', 'convenio_academico'],\n",
              "      dtype='object')"
            ]
          },
          "metadata": {},
          "execution_count": 14
        }
      ]
    },
    {
      "cell_type": "code",
      "source": [
        "columns_dis = ['id_discente', 'sexo', 'ano_nascimento', 'raca', 'estado_origem',\n",
        "       'cidade_origem', 'estado', 'municipio','nivel_ensino','ano_ingresso', 'periodo_ingresso', 'cotista',\n",
        "       'curso', 'tipo_cota', 'descricao_tipo_cota']\n",
        "discentes = discentes.loc[:,columns_dis]\n",
        "columns_socioeco = ['id_discente', 'ano', 'periodo', 'renda',\n",
        "       'possui_bolsa_pesquisa', 'possui_auxilio_alimentacao',\n",
        "       'possui_auxilio_transporte', 'possui_auxilio_residencia_moradia',\n",
        "       'id_curso'] \n",
        "socio_Economico_202015 = socio_Economico_202015.loc[:,columns_socioeco]\n",
        "socio_Economico_20192 = socio_Economico_20192.loc[:,columns_socioeco]\n",
        "columns_curso = ['id_curso','area_conhecimento']\n",
        "dados_curso = dados_curso.loc[:,columns_curso]\n",
        "#dados_curso.rename(columns={'nome':'curso'},inplace=True)"
      ],
      "metadata": {
        "id": "hXPOOomVRUHY"
      },
      "execution_count": null,
      "outputs": []
    },
    {
      "cell_type": "code",
      "source": [
        "dados_discentes_202015 = pd.merge(discentes,socio_Economico_202015,how='inner',on='id_discente')\n",
        "dados_discentes_202015 = pd.merge(dados_discentes_202015,dados_curso,how='left',on='id_curso')\n",
        "dados_discentes_202015 = pd.merge(dados_discentes_202015,matriculas_20205,how='inner',on='id_discente')"
      ],
      "metadata": {
        "id": "MWaEi1mcXiWK"
      },
      "execution_count": null,
      "outputs": []
    },
    {
      "cell_type": "code",
      "source": [
        "dados_discentes_202015.drop_duplicates(inplace=True)\n",
        "dados_discentes_202015.info()"
      ],
      "metadata": {
        "id": "HGBE97lQXthy",
        "colab": {
          "base_uri": "https://localhost:8080/"
        },
        "outputId": "c1493faa-5914-4a61-9492-2aea9720cac1"
      },
      "execution_count": null,
      "outputs": [
        {
          "output_type": "stream",
          "name": "stdout",
          "text": [
            "<class 'pandas.core.frame.DataFrame'>\n",
            "Int64Index: 11508 entries, 0 to 11507\n",
            "Data columns (total 24 columns):\n",
            " #   Column                             Non-Null Count  Dtype \n",
            "---  ------                             --------------  ----- \n",
            " 0   id_discente                        11508 non-null  object\n",
            " 1   sexo                               11508 non-null  object\n",
            " 2   ano_nascimento                     11508 non-null  object\n",
            " 3   raca                               11507 non-null  object\n",
            " 4   estado_origem                      11492 non-null  object\n",
            " 5   cidade_origem                      11496 non-null  object\n",
            " 6   estado                             11448 non-null  object\n",
            " 7   municipio                          11448 non-null  object\n",
            " 8   nivel_ensino                       11508 non-null  object\n",
            " 9   ano_ingresso                       11508 non-null  object\n",
            " 10  periodo_ingresso                   11507 non-null  object\n",
            " 11  cotista                            11508 non-null  object\n",
            " 12  curso                              11506 non-null  object\n",
            " 13  tipo_cota                          6103 non-null   object\n",
            " 14  descricao_tipo_cota                6103 non-null   object\n",
            " 15  ano                                11508 non-null  object\n",
            " 16  periodo                            11508 non-null  object\n",
            " 17  renda                              11508 non-null  object\n",
            " 18  possui_bolsa_pesquisa              11508 non-null  object\n",
            " 19  possui_auxilio_alimentacao         11508 non-null  object\n",
            " 20  possui_auxilio_transporte          11508 non-null  object\n",
            " 21  possui_auxilio_residencia_moradia  11508 non-null  object\n",
            " 22  id_curso                           11506 non-null  object\n",
            " 23  area_conhecimento                  10276 non-null  object\n",
            "dtypes: object(24)\n",
            "memory usage: 2.2+ MB\n"
          ]
        }
      ]
    },
    {
      "cell_type": "code",
      "source": [
        "dados_discentes_20192 = pd.merge(discentes,socio_Economico_20192,how='inner',on='id_discente')\n",
        "dados_discentes_20192 = pd.merge(dados_discentes_20192,dados_curso,how='left',on='id_curso')#matriculas_20192\n",
        "dados_discentes_20192 = pd.merge(dados_discentes_20192,matriculas_20192,how='left',on='id_discente')"
      ],
      "metadata": {
        "id": "RhaNhZvZho5m"
      },
      "execution_count": null,
      "outputs": []
    },
    {
      "cell_type": "code",
      "source": [
        "dados_discentes_20192.drop_duplicates(inplace=True)\n",
        "dados_discentes_20192.info()"
      ],
      "metadata": {
        "colab": {
          "base_uri": "https://localhost:8080/"
        },
        "id": "Id_gNKmXhv38",
        "outputId": "45c2ce81-182d-449c-b28b-c43df7c7af63"
      },
      "execution_count": null,
      "outputs": [
        {
          "output_type": "stream",
          "name": "stdout",
          "text": [
            "<class 'pandas.core.frame.DataFrame'>\n",
            "Int64Index: 58649 entries, 0 to 228820\n",
            "Data columns (total 28 columns):\n",
            " #   Column                             Non-Null Count  Dtype \n",
            "---  ------                             --------------  ----- \n",
            " 0   id_discente                        58649 non-null  object\n",
            " 1   sexo                               58649 non-null  object\n",
            " 2   ano_nascimento                     58649 non-null  object\n",
            " 3   raca                               58641 non-null  object\n",
            " 4   estado_origem                      58560 non-null  object\n",
            " 5   cidade_origem                      58635 non-null  object\n",
            " 6   estado                             58342 non-null  object\n",
            " 7   municipio                          58342 non-null  object\n",
            " 8   nivel_ensino                       58649 non-null  object\n",
            " 9   ano_ingresso                       58649 non-null  object\n",
            " 10  periodo_ingresso                   58649 non-null  object\n",
            " 11  cotista                            58649 non-null  object\n",
            " 12  curso                              58639 non-null  object\n",
            " 13  tipo_cota                          33030 non-null  object\n",
            " 14  descricao_tipo_cota                33030 non-null  object\n",
            " 15  ano                                58649 non-null  object\n",
            " 16  periodo                            58649 non-null  object\n",
            " 17  renda                              40920 non-null  object\n",
            " 18  possui_bolsa_pesquisa              58649 non-null  object\n",
            " 19  possui_auxilio_alimentacao         58649 non-null  object\n",
            " 20  possui_auxilio_transporte          58649 non-null  object\n",
            " 21  possui_auxilio_residencia_moradia  58649 non-null  object\n",
            " 22  id_curso                           58639 non-null  object\n",
            " 23  area_conhecimento                  54930 non-null  object\n",
            " 24  id_turma                           57882 non-null  object\n",
            " 25  reposicao                          50109 non-null  object\n",
            " 26  descricao                          57882 non-null  object\n",
            " 27  numero_total_faltas                51079 non-null  object\n",
            "dtypes: object(28)\n",
            "memory usage: 13.0+ MB\n"
          ]
        }
      ]
    },
    {
      "cell_type": "code",
      "source": [
        "dados_discentes_20192.to_csv(\"/content/drive/MyDrive/Dados mlops/dados_merge_discentes_20192.csv\",index=False,encoding='utf-8')\n",
        "dados_discentes_202015.to_csv(\"/content/drive/MyDrive/Dados mlops/dados_merge_discentes_20201_5.csv\",index=False,encoding='utf-8')"
      ],
      "metadata": {
        "id": "MqdjX0N0kSs0"
      },
      "execution_count": null,
      "outputs": []
    }
  ]
}